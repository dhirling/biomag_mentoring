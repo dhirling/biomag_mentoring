{
 "cells": [
  {
   "cell_type": "markdown",
   "metadata": {},
   "source": [
    "# BIOMAG introduction material 2. - Pytorch neural network basics"
   ]
  },
  {
   "cell_type": "code",
   "execution_count": 2,
   "metadata": {},
   "outputs": [],
   "source": [
    "import torch # pytorch basic package\n",
    "from torch import nn # neural net \n",
    "from torch.utils.data import DataLoader, Dataset # to work with data\n",
    "from torchvision import datasets # built-in data\n",
    "from torchvision.transforms import ToTensor # to convert nparrays/images into pytorch tensors\n",
    "import matplotlib.pyplot as plt\n",
    "from tqdm import tqdm\n",
    "import numpy as np"
   ]
  },
  {
   "cell_type": "code",
   "execution_count": 3,
   "metadata": {},
   "outputs": [
    {
     "data": {
      "text/plain": [
       "<torch._C.Generator at 0x7aebf8112350>"
      ]
     },
     "execution_count": 3,
     "metadata": {},
     "output_type": "execute_result"
    }
   ],
   "source": [
    "torch.manual_seed(0) # for reproducibility"
   ]
  },
  {
   "cell_type": "markdown",
   "metadata": {},
   "source": [
    "First, let's check if the GPU is available:"
   ]
  },
  {
   "cell_type": "code",
   "execution_count": 3,
   "metadata": {},
   "outputs": [
    {
     "name": "stderr",
     "output_type": "stream",
     "text": [
      "/home/dhirling/venvs/detectron/lib/python3.10/site-packages/torch/cuda/__init__.py:138: UserWarning: CUDA initialization: CUDA unknown error - this may be due to an incorrectly set up environment, e.g. changing env variable CUDA_VISIBLE_DEVICES after program start. Setting the available devices to be zero. (Triggered internally at ../c10/cuda/CUDAFunctions.cpp:108.)\n",
      "  return torch._C._cuda_getDeviceCount() > 0\n"
     ]
    },
    {
     "data": {
      "text/plain": [
       "False"
      ]
     },
     "execution_count": 3,
     "metadata": {},
     "output_type": "execute_result"
    }
   ],
   "source": [
    "torch.cuda.is_available()"
   ]
  },
  {
   "cell_type": "markdown",
   "metadata": {},
   "source": [
    "Now, let us download the datasets that we are going to use:"
   ]
  },
  {
   "cell_type": "code",
   "execution_count": 4,
   "metadata": {},
   "outputs": [],
   "source": [
    "# Download training data from open datasets.\n",
    "training_data = datasets.FashionMNIST(\n",
    "    root=\"data\",\n",
    "    train=True,\n",
    "    download=True,\n",
    "    transform=ToTensor(),\n",
    ")\n",
    "\n",
    "# Download test data from open datasets.\n",
    "test_data = datasets.FashionMNIST(\n",
    "    root=\"data\",\n",
    "    train=False,\n",
    "    download=True,\n",
    "    transform=ToTensor(),\n",
    ")\n",
    "\n",
    "labels_map = {\n",
    "    0: \"T-Shirt\",\n",
    "    1: \"Trouser\",\n",
    "    2: \"Pullover\",\n",
    "    3: \"Dress\",\n",
    "    4: \"Coat\",\n",
    "    5: \"Sandal\",\n",
    "    6: \"Shirt\",\n",
    "    7: \"Sneaker\",\n",
    "    8: \"Bag\",\n",
    "    9: \"Ankle Boot\",\n",
    "}"
   ]
  },
  {
   "cell_type": "markdown",
   "metadata": {},
   "source": [
    "The PyTorch ``DataLoader`` acts as a wrapper over the ``Dataset`` and supports batching, random sampling, augmentation, etc., basically everything you would need for your neural network research."
   ]
  },
  {
   "cell_type": "code",
   "execution_count": 5,
   "metadata": {},
   "outputs": [
    {
     "name": "stdout",
     "output_type": "stream",
     "text": [
      "Shape of X [N, C, H, W]: torch.Size([32, 1, 28, 28])\n",
      "Shape of y: torch.Size([32]) torch.int64\n",
      "torch.Size([1, 28, 28])\n",
      "10000\n"
     ]
    }
   ],
   "source": [
    "batch_size = 32\n",
    "\n",
    "# Create data loaders.\n",
    "train_dataloader = DataLoader(training_data, batch_size=batch_size)\n",
    "test_dataloader = DataLoader(test_data, batch_size=batch_size)\n",
    "\n",
    "for X, y in test_dataloader:\n",
    "    print(f\"Shape of X [N, C, H, W]: {X.shape}\")\n",
    "    print(f\"Shape of y: {y.shape} {y.dtype}\")\n",
    "    break\n",
    "\n",
    "\n",
    "print(test_data[10][0].shape)\n",
    "print(len(test_data))"
   ]
  },
  {
   "cell_type": "code",
   "execution_count": 6,
   "metadata": {},
   "outputs": [
    {
     "name": "stdout",
     "output_type": "stream",
     "text": [
      "T-Shirt\n"
     ]
    }
   ],
   "source": [
    "a = 5\n",
    "print(labels_map[0])"
   ]
  },
  {
   "cell_type": "markdown",
   "metadata": {},
   "source": [
    "Let's see how a single sample from our test set looks like:"
   ]
  },
  {
   "cell_type": "code",
   "execution_count": 7,
   "metadata": {},
   "outputs": [
    {
     "name": "stdout",
     "output_type": "stream",
     "text": [
      "y[0] = tensor(9)\n",
      "y[0].item() = 9\n",
      "labels_map[y[0].item()] = 'Ankle Boot'\n"
     ]
    },
    {
     "data": {
      "image/png": "[encoded data removed]",
      "text/plain": [
       "<Figure size 640x480 with 1 Axes>"
      ]
     },
     "metadata": {},
     "output_type": "display_data"
    }
   ],
   "source": [
    "print(f'{y[0] = }')\n",
    "print(f'{y[0].item() = }')\n",
    "print(f'{labels_map[y[0].item()] = }')\n",
    "plt.imshow(X[0,0,:,:], cmap='gray')\n",
    "plt.show()"
   ]
  },
  {
   "cell_type": "markdown",
   "metadata": {},
   "source": [
    "Now let us create our own neural network in PyTorch. for that, we need to create our own class, which inherits most of the properties from the ``nn.Module`` class."
   ]
  },
  {
   "cell_type": "code",
   "execution_count": 6,
   "metadata": {},
   "outputs": [
    {
     "name": "stdout",
     "output_type": "stream",
     "text": [
      "We are using the following device: cuda\n"
     ]
    }
   ],
   "source": [
    "# Set the GPU as the main device if it is available, if not, the CPU will suffice\n",
    "device = \"cuda\" if torch.cuda.is_available() else \"cpu\"\n",
    "print(f'We are using the following device: {device}')"
   ]
  },
  {
   "cell_type": "code",
   "execution_count": 7,
   "metadata": {},
   "outputs": [],
   "source": [
    "# Define model\n",
    "class NeuralNetwork(nn.Module):\n",
    "    # here we define the neural net layers\n",
    "    def __init__(self):\n",
    "        super().__init__()\n",
    "        self.flatten = nn.Flatten() # this flattens out any tensor, meaning a 28x28 matrix will become a 1D vector of 784\n",
    "        self.linear_relu_stack = nn.Sequential(\n",
    "            nn.Linear(in_features = 28*28, out_features = 512, bias = True), # this will do the standard wx + b perceptron operation and will set all parameters to be the correct shape.\n",
    "            nn.ReLU(), # perform the relu activation (z = relu(wx + b))\n",
    "            nn.Linear(in_features = 512, out_features = 512), # and so on... note that in_features has to match the previous layer's out_features size.\n",
    "            nn.ReLU(),\n",
    "            nn.Linear(in_features = 512, out_features = 10) # bias is set True by default.\n",
    "        )\n",
    "\n",
    "    # here we specify how the data will flow through the network.\n",
    "    def forward(self, x):\n",
    "        # first we flatten our input x, which is an image (why is thid good/bad?)\n",
    "        x = self.flatten(x)\n",
    "        # then we perform the network prediction with the sequential layers specified in the init function.\n",
    "        logits = self.linear_relu_stack(x)\n",
    "        # we return the prediction (what is the size?)\n",
    "        return logits"
   ]
  },
  {
   "cell_type": "code",
   "execution_count": 8,
   "metadata": {},
   "outputs": [
    {
     "name": "stdout",
     "output_type": "stream",
     "text": [
      "NeuralNetwork(\n",
      "  (flatten): Flatten(start_dim=1, end_dim=-1)\n",
      "  (linear_relu_stack): Sequential(\n",
      "    (0): Linear(in_features=784, out_features=512, bias=True)\n",
      "    (1): ReLU()\n",
      "    (2): Linear(in_features=512, out_features=512, bias=True)\n",
      "    (3): ReLU()\n",
      "  )\n",
      "  (class_layer): Linear(in_features=512, out_features=10, bias=True)\n",
      ")\n"
     ]
    }
   ],
   "source": [
    "# We create our model by instantiating the NeuralNetwork class and immediately move it to the GPU\n",
    "model = NeuralNetwork().to(device)\n",
    "print(model)"
   ]
  },
  {
   "cell_type": "markdown",
   "metadata": {},
   "source": [
    "What happens if we apply our model on a batch of images from the training set?"
   ]
  },
  {
   "cell_type": "code",
   "execution_count": 11,
   "metadata": {},
   "outputs": [],
   "source": [
    "X, y = next(iter(train_dataloader))\n",
    "result = model(X) # apply the operations specified in the forward function: it's the same as model.forward(X)"
   ]
  },
  {
   "cell_type": "markdown",
   "metadata": {},
   "source": [
    "Now we get a problem, because our network (``model``) is on a different device compared to the samples and labels ``X`` and ``y``. Let's move our samples and labels to the GPU as well:"
   ]
  },
  {
   "cell_type": "code",
   "execution_count": 12,
   "metadata": {},
   "outputs": [
    {
     "name": "stdout",
     "output_type": "stream",
     "text": [
      "result.shape = torch.Size([32, 10])\n"
     ]
    }
   ],
   "source": [
    "X, y = X.to(device), y.to(device)\n",
    "result = model(X)\n",
    "print(f'{result.shape = }')"
   ]
  },
  {
   "cell_type": "markdown",
   "metadata": {},
   "source": [
    "So how does a prediction look like for a single image?"
   ]
  },
  {
   "cell_type": "code",
   "execution_count": 13,
   "metadata": {},
   "outputs": [
    {
     "name": "stdout",
     "output_type": "stream",
     "text": [
      "result[0] = tensor([ 0.0197, -0.0620,  0.0220,  0.0378, -0.0451, -0.1791,  0.0351, -0.0829,\n",
      "         0.0705,  0.0719], grad_fn=<SelectBackward0>)\n",
      "result = tensor([[ 0.0197, -0.0620,  0.0220,  0.0378, -0.0451, -0.1791,  0.0351, -0.0829,\n",
      "          0.0705,  0.0719],\n",
      "        [-0.0386, -0.0509,  0.0750,  0.0098, -0.0814, -0.1424,  0.0469, -0.0179,\n",
      "          0.1015,  0.0805],\n",
      "        [ 0.0349, -0.0377,  0.0032, -0.0295, -0.0274, -0.0772, -0.0144, -0.0402,\n",
      "          0.0345,  0.0515],\n",
      "        [ 0.0272, -0.0477,  0.0416, -0.0280, -0.0298, -0.0924,  0.0086, -0.0159,\n",
      "          0.0533,  0.0700],\n",
      "        [ 0.0238, -0.0205,  0.0144, -0.0009, -0.0869, -0.1438,  0.0310, -0.0261,\n",
      "          0.0545,  0.0866],\n",
      "        [-0.0434, -0.0890,  0.0141,  0.0296, -0.0492, -0.1733,  0.0323, -0.0437,\n",
      "          0.1334,  0.0964],\n",
      "        [ 0.0111,  0.0043,  0.0252, -0.0052, -0.0317, -0.0965,  0.0144, -0.0835,\n",
      "          0.0975,  0.0429],\n",
      "        [-0.0276, -0.0723,  0.0383,  0.0382, -0.0584, -0.2195,  0.0668, -0.0396,\n",
      "          0.1844,  0.0923],\n",
      "        [ 0.0241, -0.0277,  0.0016, -0.0076, -0.0250, -0.0640,  0.0038, -0.0303,\n",
      "          0.0507,  0.0842],\n",
      "        [ 0.0438, -0.0085,  0.0422,  0.0481, -0.0257, -0.1299,  0.0271, -0.0733,\n",
      "          0.1316,  0.0835],\n",
      "        [-0.0004, -0.0303,  0.0323, -0.0178, -0.0548, -0.1342,  0.0359, -0.0255,\n",
      "          0.0718,  0.0959],\n",
      "        [ 0.0234, -0.0712,  0.0664, -0.0010, -0.0132, -0.1283,  0.0529, -0.0130,\n",
      "          0.1065,  0.0680],\n",
      "        [ 0.0363, -0.0139,  0.0101, -0.0116, -0.0627, -0.1148,  0.0110, -0.0615,\n",
      "          0.0608,  0.0519],\n",
      "        [ 0.0408, -0.0216,  0.0208, -0.0455, -0.0407, -0.0870,  0.0128, -0.0945,\n",
      "          0.0827,  0.1107],\n",
      "        [ 0.0390, -0.0035,  0.0105, -0.0295, -0.0363, -0.0722,  0.0093, -0.0728,\n",
      "          0.0687,  0.0569],\n",
      "        [ 0.0614, -0.0372,  0.0179,  0.0291, -0.0450, -0.1683,  0.0441, -0.0894,\n",
      "          0.0862,  0.0536],\n",
      "        [ 0.0309, -0.0376,  0.0362, -0.0429, -0.0449, -0.1043, -0.0043, -0.0214,\n",
      "          0.0446,  0.0563],\n",
      "        [ 0.0084, -0.0306,  0.0549,  0.0030, -0.0625, -0.1411,  0.0546, -0.0246,\n",
      "          0.0985,  0.0995],\n",
      "        [-0.0234, -0.0687,  0.0240,  0.0585, -0.0496, -0.1640,  0.0372, -0.0459,\n",
      "          0.1397,  0.1013],\n",
      "        [ 0.0015, -0.0485,  0.0094, -0.0339, -0.0156, -0.0700,  0.0046, -0.0500,\n",
      "          0.0515,  0.0679],\n",
      "        [ 0.0658, -0.0333,  0.0343, -0.0286, -0.0646, -0.1041,  0.0451,  0.0143,\n",
      "          0.0475,  0.0918],\n",
      "        [ 0.0558, -0.0328, -0.0025, -0.0052, -0.0832, -0.0995,  0.0176, -0.0326,\n",
      "          0.0458,  0.0681],\n",
      "        [ 0.0124, -0.0593,  0.0200,  0.0200, -0.0429, -0.1144,  0.0046, -0.0120,\n",
      "          0.0570,  0.0638],\n",
      "        [-0.0206, -0.0743,  0.0269,  0.0310, -0.0674, -0.1639,  0.0437, -0.0456,\n",
      "          0.1021,  0.1205],\n",
      "        [-0.0444, -0.0857,  0.0395,  0.0491, -0.0300, -0.1699,  0.0179, -0.0251,\n",
      "          0.1115,  0.0795],\n",
      "        [ 0.0702, -0.0411,  0.0491, -0.0130, -0.0614, -0.1081,  0.0377, -0.0314,\n",
      "          0.0690,  0.0821],\n",
      "        [-0.0104, -0.0355,  0.0513,  0.0221, -0.0528, -0.1610,  0.0384, -0.0514,\n",
      "          0.1159,  0.0997],\n",
      "        [-0.0382, -0.0755,  0.0312,  0.0393, -0.0623, -0.2025,  0.0325, -0.0580,\n",
      "          0.1171,  0.0696],\n",
      "        [-0.0197, -0.0827,  0.0278, -0.0027, -0.0371, -0.1191,  0.0049, -0.0179,\n",
      "          0.0807,  0.0843],\n",
      "        [-0.0464, -0.1023,  0.0248,  0.0587, -0.0643, -0.1464,  0.0138, -0.0384,\n",
      "          0.1352,  0.0847],\n",
      "        [ 0.0149, -0.0099,  0.0062, -0.0298, -0.0204, -0.0649, -0.0193, -0.0603,\n",
      "          0.0455,  0.0607],\n",
      "        [ 0.0393,  0.0060,  0.0279, -0.0074, -0.0518, -0.0924, -0.0029, -0.0296,\n",
      "          0.0535,  0.0657]], grad_fn=<AddmmBackward0>)\n"
     ]
    }
   ],
   "source": [
    "print(f'{result[0] = }')\n",
    "print(f'{result = }')"
   ]
  },
  {
   "cell_type": "markdown",
   "metadata": {},
   "source": [
    "These values are essentially probabilities, so for example, ``result[0]`` will output 10 probability values for the 1st image in the batch, each telling us how likely it is that the image is from class ``n`` (where ``n`` goes from 0  to 9). An easy way to tell immediately which class got the highest probability:"
   ]
  },
  {
   "cell_type": "code",
   "execution_count": 14,
   "metadata": {},
   "outputs": [
    {
     "name": "stdout",
     "output_type": "stream",
     "text": [
      "9\n",
      " The predicted class for image 0 is: Ankle Boot\n"
     ]
    }
   ],
   "source": [
    "print(result[0].argmax().item())\n",
    "print(f' The predicted class for image 0 is: {labels_map[result[0].argmax().item()]}')\n"
   ]
  },
  {
   "cell_type": "markdown",
   "metadata": {},
   "source": [
    "### Training (and testing) the network\n",
    "Do train a network, we need a loss function and an optimizer method:"
   ]
  },
  {
   "cell_type": "code",
   "execution_count": 15,
   "metadata": {},
   "outputs": [],
   "source": [
    "loss_fn = nn.CrossEntropyLoss()\n",
    "optimizer = torch.optim.SGD(model.parameters(), lr=1e-3)"
   ]
  },
  {
   "cell_type": "code",
   "execution_count": 18,
   "metadata": {},
   "outputs": [],
   "source": [
    "# training procedure for a single epoch\n",
    "def train(train_dataloader, model, loss_fn, optimizer):\n",
    "    num_samples = len(train_dataloader.dataset)\n",
    "    num_batches = len(train_dataloader)\n",
    "    model.train() # if we are in training mode, some functions will behave differently (e.g. dropout, batchnorm)\n",
    "\n",
    "    training_loss = 0\n",
    "\n",
    "    # iterate through the whole dataset, batch just stores the index of the batch.\n",
    "    # if we have a total of 128 images, with a batch size of 32 we will have 4 batches before the for loop stops\n",
    "    for batch, (X,y) in enumerate(train_dataloader):\n",
    "        X, y = X.to(device), y.to(device)\n",
    "\n",
    "        # calc yhat and loss value\n",
    "        yhat = model(X)\n",
    "        loss = loss_fn(yhat, y)\n",
    "        training_loss += loss.item()\n",
    "\n",
    "        # backpropagation: calculate the partial derivatives for each neural net parameter\n",
    "        loss.backward()\n",
    "        # update neural network parameters according to the partial derivatives\n",
    "        optimizer.step()\n",
    "        # zero out the variables that are used for storing the gradients\n",
    "        optimizer.zero_grad()\n",
    "\n",
    "        # we ususally don't want to print information at every batch, so make it a bit more scarce:\n",
    "        if batch % 100 == 0:\n",
    "            current_loss = loss.item()\n",
    "            current = (batch + 1) * len(X) # len(X) is the batch size\n",
    "            print(f'{current}/{num_samples} : {current_loss = }')\n",
    "    \n",
    "    training_loss /= num_batches\n",
    "    return training_loss"
   ]
  },
  {
   "cell_type": "markdown",
   "metadata": {},
   "source": [
    "We also write a test function to see how the model works on the test set:"
   ]
  },
  {
   "cell_type": "code",
   "execution_count": 19,
   "metadata": {},
   "outputs": [],
   "source": [
    "def test(epoch, test_dataloader, model, loss_fn):\n",
    "    num_samples = len(test_dataloader.dataset)\n",
    "    num_batches = len(test_dataloader)\n",
    "    model.eval() # if we are in eval mode, some functions behave differently\n",
    "    test_loss = 0 \n",
    "    correct = 0\n",
    "    with torch.no_grad(): # we do not want to calculate gradients in eval mode\n",
    "        for X, y in test_dataloader:\n",
    "            X, y = X.to(device), y.to(device)\n",
    "            pred = model(X)\n",
    "            loss = loss_fn(pred, y).item()\n",
    "            test_loss += loss # we summarize the test loss across all batches\n",
    "            correct_pred_locations = (pred.argmax(1) == y).type(torch.float) # also torch.argmax(pred, dim=1) is correct, and then we convert these locations to float\n",
    "            correct += correct_pred_locations.sum().item() # we summarize how many items we got correct\n",
    "    test_loss /= num_batches # we average the loss\n",
    "    correct /= num_samples\n",
    "    print(f'End of epoch {epoch+1}\\n Accuracy: {(100*correct):.2f}%, Average loss: {test_loss:.4f}\\n')\n",
    "    return test_loss"
   ]
  },
  {
   "cell_type": "markdown",
   "metadata": {},
   "source": [
    "Now let's do the actual training and evaluation:"
   ]
  },
  {
   "cell_type": "code",
   "execution_count": 20,
   "metadata": {},
   "outputs": [
    {
     "name": "stderr",
     "output_type": "stream",
     "text": [
      "  0%|          | 0/10 [00:00<?, ?it/s]"
     ]
    },
    {
     "name": "stdout",
     "output_type": "stream",
     "text": [
      "32/60000 : current_loss = 2.3179779052734375\n",
      "3232/60000 : current_loss = 2.315708875656128\n",
      "6432/60000 : current_loss = 2.2781155109405518\n",
      "9632/60000 : current_loss = 2.25747013092041\n",
      "12832/60000 : current_loss = 2.237417697906494\n",
      "16032/60000 : current_loss = 2.242656946182251\n",
      "19232/60000 : current_loss = 2.216090440750122\n",
      "22432/60000 : current_loss = 2.1993987560272217\n",
      "25632/60000 : current_loss = 2.1865286827087402\n",
      "28832/60000 : current_loss = 2.137355089187622\n",
      "32032/60000 : current_loss = 2.0907020568847656\n",
      "35232/60000 : current_loss = 2.0432369709014893\n",
      "38432/60000 : current_loss = 2.1589226722717285\n",
      "41632/60000 : current_loss = 2.048189878463745\n",
      "44832/60000 : current_loss = 2.001328229904175\n",
      "48032/60000 : current_loss = 1.9996063709259033\n",
      "51232/60000 : current_loss = 2.05395245552063\n",
      "54432/60000 : current_loss = 1.9513449668884277\n",
      "57632/60000 : current_loss = 1.8752305507659912\n"
     ]
    },
    {
     "name": "stderr",
     "output_type": "stream",
     "text": [
      " 10%|█         | 1/10 [00:08<01:13,  8.21s/it]"
     ]
    },
    {
     "name": "stdout",
     "output_type": "stream",
     "text": [
      "End of epoch 1\n",
      " Accuracy: 53.47%, Average loss: 1.8668\n",
      "\n",
      "32/60000 : current_loss = 1.8575505018234253\n",
      "3232/60000 : current_loss = 1.889259934425354\n",
      "6432/60000 : current_loss = 1.8027961254119873\n",
      "9632/60000 : current_loss = 1.7491294145584106\n",
      "12832/60000 : current_loss = 1.688451886177063\n",
      "16032/60000 : current_loss = 1.7650010585784912\n",
      "19232/60000 : current_loss = 1.555234670639038\n",
      "22432/60000 : current_loss = 1.5524206161499023\n",
      "25632/60000 : current_loss = 1.5618681907653809\n",
      "28832/60000 : current_loss = 1.5219999551773071\n",
      "32032/60000 : current_loss = 1.3662418127059937\n",
      "35232/60000 : current_loss = 1.3001668453216553\n",
      "38432/60000 : current_loss = 1.5255181789398193\n",
      "41632/60000 : current_loss = 1.3771802186965942\n",
      "44832/60000 : current_loss = 1.2836493253707886\n",
      "48032/60000 : current_loss = 1.2705013751983643\n",
      "51232/60000 : current_loss = 1.3628780841827393\n",
      "54432/60000 : current_loss = 1.3610389232635498\n",
      "57632/60000 : current_loss = 1.173859715461731\n"
     ]
    },
    {
     "name": "stderr",
     "output_type": "stream",
     "text": [
      " 20%|██        | 2/10 [00:16<01:04,  8.02s/it]"
     ]
    },
    {
     "name": "stdout",
     "output_type": "stream",
     "text": [
      "End of epoch 2\n",
      " Accuracy: 63.21%, Average loss: 1.2359\n",
      "\n",
      "32/60000 : current_loss = 1.2276357412338257\n",
      "3232/60000 : current_loss = 1.228285551071167\n",
      "6432/60000 : current_loss = 1.21071457862854\n",
      "9632/60000 : current_loss = 1.2725032567977905\n",
      "12832/60000 : current_loss = 1.1197423934936523\n",
      "16032/60000 : current_loss = 1.3035635948181152\n",
      "19232/60000 : current_loss = 0.9983610510826111\n",
      "22432/60000 : current_loss = 1.0259754657745361\n",
      "25632/60000 : current_loss = 1.093198299407959\n",
      "28832/60000 : current_loss = 1.164613127708435\n",
      "32032/60000 : current_loss = 0.9804417490959167\n",
      "35232/60000 : current_loss = 0.9269165396690369\n",
      "38432/60000 : current_loss = 1.2068864107131958\n",
      "41632/60000 : current_loss = 1.0551934242248535\n",
      "44832/60000 : current_loss = 0.9705529808998108\n",
      "48032/60000 : current_loss = 0.9066712856292725\n",
      "51232/60000 : current_loss = 1.015914797782898\n",
      "54432/60000 : current_loss = 1.1309579610824585\n",
      "57632/60000 : current_loss = 0.8860533237457275\n"
     ]
    },
    {
     "name": "stderr",
     "output_type": "stream",
     "text": [
      " 30%|███       | 3/10 [00:23<00:55,  7.96s/it]"
     ]
    },
    {
     "name": "stdout",
     "output_type": "stream",
     "text": [
      "End of epoch 3\n",
      " Accuracy: 65.67%, Average loss: 0.9711\n",
      "\n",
      "32/60000 : current_loss = 0.9299236536026001\n",
      "3232/60000 : current_loss = 0.9676246047019958\n",
      "6432/60000 : current_loss = 0.951221764087677\n",
      "9632/60000 : current_loss = 1.0933637619018555\n",
      "12832/60000 : current_loss = 0.8693445920944214\n",
      "16032/60000 : current_loss = 1.1038291454315186\n",
      "19232/60000 : current_loss = 0.7648152112960815\n",
      "22432/60000 : current_loss = 0.7866244316101074\n",
      "25632/60000 : current_loss = 0.8866464495658875\n",
      "28832/60000 : current_loss = 1.049747109413147\n",
      "32032/60000 : current_loss = 0.803266167640686\n",
      "35232/60000 : current_loss = 0.7557001709938049\n",
      "38432/60000 : current_loss = 1.0955702066421509\n",
      "41632/60000 : current_loss = 0.9429977536201477\n",
      "44832/60000 : current_loss = 0.8536184430122375\n",
      "48032/60000 : current_loss = 0.7539700865745544\n",
      "51232/60000 : current_loss = 0.8629312515258789\n",
      "54432/60000 : current_loss = 1.0233025550842285\n",
      "57632/60000 : current_loss = 0.7703955173492432\n"
     ]
    },
    {
     "name": "stderr",
     "output_type": "stream",
     "text": [
      " 40%|████      | 4/10 [00:31<00:47,  7.92s/it]"
     ]
    },
    {
     "name": "stdout",
     "output_type": "stream",
     "text": [
      "End of epoch 4\n",
      " Accuracy: 67.54%, Average loss: 0.8518\n",
      "\n",
      "32/60000 : current_loss = 0.7851779460906982\n",
      "3232/60000 : current_loss = 0.8722217679023743\n",
      "6432/60000 : current_loss = 0.8230079412460327\n",
      "9632/60000 : current_loss = 0.9783138036727905\n",
      "12832/60000 : current_loss = 0.7483274340629578\n",
      "16032/60000 : current_loss = 1.0105066299438477\n",
      "19232/60000 : current_loss = 0.651472806930542\n",
      "22432/60000 : current_loss = 0.6581982970237732\n",
      "25632/60000 : current_loss = 0.7800417542457581\n",
      "28832/60000 : current_loss = 0.9948737621307373\n",
      "32032/60000 : current_loss = 0.7192630767822266\n",
      "35232/60000 : current_loss = 0.6716568470001221\n",
      "38432/60000 : current_loss = 1.0326107740402222\n",
      "41632/60000 : current_loss = 0.8997618556022644\n",
      "44832/60000 : current_loss = 0.8062951564788818\n",
      "48032/60000 : current_loss = 0.6777500510215759\n",
      "51232/60000 : current_loss = 0.7789291739463806\n",
      "54432/60000 : current_loss = 0.9540868401527405\n",
      "57632/60000 : current_loss = 0.7151429653167725\n"
     ]
    },
    {
     "name": "stderr",
     "output_type": "stream",
     "text": [
      " 50%|█████     | 5/10 [00:39<00:39,  7.95s/it]"
     ]
    },
    {
     "name": "stdout",
     "output_type": "stream",
     "text": [
      "End of epoch 5\n",
      " Accuracy: 69.99%, Average loss: 0.7845\n",
      "\n",
      "32/60000 : current_loss = 0.7012519240379333\n",
      "3232/60000 : current_loss = 0.8291477560997009\n",
      "6432/60000 : current_loss = 0.7394806146621704\n",
      "9632/60000 : current_loss = 0.8871161341667175\n",
      "12832/60000 : current_loss = 0.6761825084686279\n",
      "16032/60000 : current_loss = 0.9587879180908203\n",
      "19232/60000 : current_loss = 0.5896158218383789\n",
      "22432/60000 : current_loss = 0.5771933197975159\n",
      "25632/60000 : current_loss = 0.711334764957428\n",
      "28832/60000 : current_loss = 0.9545825719833374\n",
      "32032/60000 : current_loss = 0.679513156414032\n",
      "35232/60000 : current_loss = 0.6233816146850586\n",
      "38432/60000 : current_loss = 0.9789640307426453\n",
      "41632/60000 : current_loss = 0.8786115646362305\n",
      "44832/60000 : current_loss = 0.7783153653144836\n",
      "48032/60000 : current_loss = 0.6302167773246765\n",
      "51232/60000 : current_loss = 0.7212133407592773\n",
      "54432/60000 : current_loss = 0.90023273229599\n",
      "57632/60000 : current_loss = 0.6827230453491211\n"
     ]
    },
    {
     "name": "stderr",
     "output_type": "stream",
     "text": [
      " 60%|██████    | 6/10 [00:47<00:31,  7.96s/it]"
     ]
    },
    {
     "name": "stdout",
     "output_type": "stream",
     "text": [
      "End of epoch 6\n",
      " Accuracy: 72.55%, Average loss: 0.7378\n",
      "\n",
      "32/60000 : current_loss = 0.6423658132553101\n",
      "3232/60000 : current_loss = 0.8012318015098572\n",
      "6432/60000 : current_loss = 0.6767279505729675\n",
      "9632/60000 : current_loss = 0.8143655061721802\n",
      "12832/60000 : current_loss = 0.6236092448234558\n",
      "16032/60000 : current_loss = 0.9221161007881165\n",
      "19232/60000 : current_loss = 0.5508206486701965\n",
      "22432/60000 : current_loss = 0.5167889595031738\n",
      "25632/60000 : current_loss = 0.6595560908317566\n",
      "28832/60000 : current_loss = 0.9184271693229675\n",
      "32032/60000 : current_loss = 0.6588608026504517\n",
      "35232/60000 : current_loss = 0.5899806022644043\n",
      "38432/60000 : current_loss = 0.9280648827552795\n",
      "41632/60000 : current_loss = 0.8638541102409363\n",
      "44832/60000 : current_loss = 0.7547705173492432\n",
      "48032/60000 : current_loss = 0.5955496430397034\n",
      "51232/60000 : current_loss = 0.6759569048881531\n",
      "54432/60000 : current_loss = 0.8548617959022522\n",
      "57632/60000 : current_loss = 0.659784197807312\n"
     ]
    },
    {
     "name": "stderr",
     "output_type": "stream",
     "text": [
      " 70%|███████   | 7/10 [00:55<00:23,  7.99s/it]"
     ]
    },
    {
     "name": "stdout",
     "output_type": "stream",
     "text": [
      "End of epoch 7\n",
      " Accuracy: 74.56%, Average loss: 0.7005\n",
      "\n",
      "32/60000 : current_loss = 0.5967254638671875\n",
      "3232/60000 : current_loss = 0.7772932052612305\n",
      "6432/60000 : current_loss = 0.6264411211013794\n",
      "9632/60000 : current_loss = 0.7566813230514526\n",
      "12832/60000 : current_loss = 0.5810956954956055\n",
      "16032/60000 : current_loss = 0.8913201689720154\n",
      "19232/60000 : current_loss = 0.5225026607513428\n",
      "22432/60000 : current_loss = 0.46688345074653625\n",
      "25632/60000 : current_loss = 0.618460476398468\n",
      "28832/60000 : current_loss = 0.8841698169708252\n",
      "32032/60000 : current_loss = 0.6455210447311401\n",
      "35232/60000 : current_loss = 0.5630003809928894\n",
      "38432/60000 : current_loss = 0.8794153332710266\n",
      "41632/60000 : current_loss = 0.8515462279319763\n",
      "44832/60000 : current_loss = 0.7335138916969299\n",
      "48032/60000 : current_loss = 0.567471444606781\n",
      "51232/60000 : current_loss = 0.6389849185943604\n",
      "54432/60000 : current_loss = 0.8159232139587402\n",
      "57632/60000 : current_loss = 0.6414066553115845\n"
     ]
    },
    {
     "name": "stderr",
     "output_type": "stream",
     "text": [
      " 80%|████████  | 8/10 [01:03<00:15,  7.96s/it]"
     ]
    },
    {
     "name": "stdout",
     "output_type": "stream",
     "text": [
      "End of epoch 8\n",
      " Accuracy: 76.42%, Average loss: 0.6690\n",
      "\n",
      "32/60000 : current_loss = 0.5602832436561584\n",
      "3232/60000 : current_loss = 0.7546260952949524\n",
      "6432/60000 : current_loss = 0.5854899287223816\n",
      "9632/60000 : current_loss = 0.710845947265625\n",
      "12832/60000 : current_loss = 0.5451810956001282\n",
      "16032/60000 : current_loss = 0.8644978404045105\n",
      "19232/60000 : current_loss = 0.5009932518005371\n",
      "22432/60000 : current_loss = 0.42431867122650146\n",
      "25632/60000 : current_loss = 0.5857078433036804\n",
      "28832/60000 : current_loss = 0.8512700796127319\n",
      "32032/60000 : current_loss = 0.6351916193962097\n",
      "35232/60000 : current_loss = 0.5402008891105652\n",
      "38432/60000 : current_loss = 0.8336632251739502\n",
      "41632/60000 : current_loss = 0.8407769799232483\n",
      "44832/60000 : current_loss = 0.715779185295105\n",
      "48032/60000 : current_loss = 0.544330894947052\n",
      "51232/60000 : current_loss = 0.6092020273208618\n",
      "54432/60000 : current_loss = 0.7825528979301453\n",
      "57632/60000 : current_loss = 0.6259620785713196\n"
     ]
    },
    {
     "name": "stderr",
     "output_type": "stream",
     "text": [
      " 90%|█████████ | 9/10 [01:11<00:07,  7.93s/it]"
     ]
    },
    {
     "name": "stdout",
     "output_type": "stream",
     "text": [
      "End of epoch 9\n",
      " Accuracy: 77.63%, Average loss: 0.6422\n",
      "\n",
      "32/60000 : current_loss = 0.5321946740150452\n",
      "3232/60000 : current_loss = 0.7336203455924988\n",
      "6432/60000 : current_loss = 0.551207959651947\n",
      "9632/60000 : current_loss = 0.67436283826828\n",
      "12832/60000 : current_loss = 0.5146070718765259\n",
      "16032/60000 : current_loss = 0.8417096138000488\n",
      "19232/60000 : current_loss = 0.48419615626335144\n",
      "22432/60000 : current_loss = 0.3878411054611206\n",
      "25632/60000 : current_loss = 0.5592789649963379\n",
      "28832/60000 : current_loss = 0.8194368481636047\n",
      "32032/60000 : current_loss = 0.6254838109016418\n",
      "35232/60000 : current_loss = 0.521005392074585\n",
      "38432/60000 : current_loss = 0.7923542261123657\n",
      "41632/60000 : current_loss = 0.8313308358192444\n",
      "44832/60000 : current_loss = 0.7028661370277405\n",
      "48032/60000 : current_loss = 0.5258781909942627\n",
      "51232/60000 : current_loss = 0.5860700011253357\n",
      "54432/60000 : current_loss = 0.7536707520484924\n",
      "57632/60000 : current_loss = 0.6125257015228271\n"
     ]
    },
    {
     "name": "stderr",
     "output_type": "stream",
     "text": [
      "100%|██████████| 10/10 [01:19<00:00,  7.99s/it]"
     ]
    },
    {
     "name": "stdout",
     "output_type": "stream",
     "text": [
      "End of epoch 10\n",
      " Accuracy: 78.34%, Average loss: 0.6194\n",
      "\n",
      "Done!\n"
     ]
    },
    {
     "name": "stderr",
     "output_type": "stream",
     "text": [
      "\n"
     ]
    }
   ],
   "source": [
    "epochs = 10\n",
    "train_losses = []\n",
    "test_losses = []\n",
    "for t in tqdm(range(epochs)):\n",
    "    train_loss = train(train_dataloader, model, loss_fn, optimizer)\n",
    "    test_loss = test(t, test_dataloader, model, loss_fn)\n",
    "\n",
    "    train_losses.append(train_loss)\n",
    "    test_losses.append(test_loss)\n",
    "\n",
    "print(\"Done!\")"
   ]
  },
  {
   "cell_type": "markdown",
   "metadata": {},
   "source": [
    "Now, let us plot the training and validation curves:"
   ]
  },
  {
   "cell_type": "code",
   "execution_count": 23,
   "metadata": {},
   "outputs": [
    {
     "data": {
      "image/png": "[encoded data removed]",
      "text/plain": [
       "<Figure size 640x480 with 1 Axes>"
      ]
     },
     "metadata": {},
     "output_type": "display_data"
    }
   ],
   "source": [
    "plt.plot(train_losses, label=\"training loss\")\n",
    "plt.plot(test_losses, label=\"test (validation) loss\")\n",
    "plt.legend()\n",
    "plt.show()"
   ]
  },
  {
   "cell_type": "markdown",
   "metadata": {},
   "source": [
    "Let us save this model for further use:"
   ]
  },
  {
   "cell_type": "code",
   "execution_count": 9,
   "metadata": {},
   "outputs": [],
   "source": [
    "torch.save(model.state_dict(), \"mnist_starter_model.pth\")"
   ]
  },
  {
   "cell_type": "markdown",
   "metadata": {},
   "source": [
    "If we want to load it later:"
   ]
  },
  {
   "cell_type": "code",
   "execution_count": 10,
   "metadata": {},
   "outputs": [
    {
     "data": {
      "text/plain": [
       "<All keys matched successfully>"
      ]
     },
     "execution_count": 10,
     "metadata": {},
     "output_type": "execute_result"
    }
   ],
   "source": [
    "model = NeuralNetwork().to(device)\n",
    "model.load_state_dict(torch.load(\"mnist_starter_model.pth\"))"
   ]
  },
  {
   "cell_type": "markdown",
   "metadata": {},
   "source": [
    "Do a quick visual evaluation:"
   ]
  },
  {
   "cell_type": "code",
   "execution_count": 26,
   "metadata": {},
   "outputs": [
    {
     "data": {
      "image/png": "[encoded data removed]",
      "text/plain": [
       "<Figure size 640x480 with 4 Axes>"
      ]
     },
     "metadata": {},
     "output_type": "display_data"
    }
   ],
   "source": [
    "model.eval()\n",
    "indices = np.random.randint(len(test_data), size=(4)) # pick 4 random images from the test set\n",
    "f = plt.figure()\n",
    "for fig_idx, i in enumerate(indices):\n",
    "    x, y = test_data[i][0], test_data[i][1]\n",
    "    x = x.to(device)\n",
    "    pred_vector = model(x)\n",
    "    pred_value = labels_map[pred_vector.argmax().item()]\n",
    "    gt_value = labels_map[y]\n",
    "    plt.subplot(2,2,fig_idx+1)\n",
    "    plt.title(f'GT: {gt_value}, pred: {pred_value}')\n",
    "    plt.imshow(x.cpu()[0], cmap='gray')\n",
    "    plt.axis('off')\n",
    "\n",
    "plt.tight_layout()\n",
    "plt.show()\n"
   ]
  },
  {
   "cell_type": "markdown",
   "metadata": {},
   "source": [
    "## Homework\n",
    "1. Try training the network for a longer time. What can you observe in terms of training and validation losses? Why do you think this is the case?\n",
    "2. Try tweaking the network parameters (number of neurons, number of layers, etc) to reach a better accuracy than the original model after 10 epochs.\n",
    "3. Modify the network so that if you save the weights after training and you reload reload these weights, you can later adjust the model parameters for fewer/more classes"
   ]
  },
  {
   "cell_type": "markdown",
   "metadata": {},
   "source": []
  }
 ],
 "metadata": {
  "kernelspec": {
   "display_name": "detectron",
   "language": "python",
   "name": "python3"
  },
  "language_info": {
   "codemirror_mode": {
    "name": "ipython",
    "version": 3
   },
   "file_extension": ".py",
   "mimetype": "text/x-python",
   "name": "python",
   "nbconvert_exporter": "python",
   "pygments_lexer": "ipython3",
   "version": "3.10.12"
  }
 },
 "nbformat": 4,
 "nbformat_minor": 2
}
