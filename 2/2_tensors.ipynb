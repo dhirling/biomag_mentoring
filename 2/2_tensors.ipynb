{
 "cells": [
  {
   "cell_type": "markdown",
   "metadata": {},
   "source": [
    "# BIOMAG introduction material 2. - Pytorch basics - Tensors"
   ]
  },
  {
   "cell_type": "markdown",
   "metadata": {},
   "source": [
    "A tensor is a basic datatype in pytorch (and all other deep learning frameworks as well). They are basically n-dimensional matrices which can be really beneficial when using them on the GPU."
   ]
  },
  {
   "cell_type": "code",
   "execution_count": 19,
   "metadata": {},
   "outputs": [],
   "source": [
    "import torch\n",
    "import numpy as np"
   ]
  },
  {
   "cell_type": "markdown",
   "metadata": {},
   "source": [
    "First, let us see ho we can convert between the most well known array-like structures:"
   ]
  },
  {
   "cell_type": "code",
   "execution_count": 20,
   "metadata": {},
   "outputs": [
    {
     "name": "stdout",
     "output_type": "stream",
     "text": [
      "<class 'list'>\n"
     ]
    }
   ],
   "source": [
    "data = [[1,2],[3,4]]\n",
    "print(type(data))"
   ]
  },
  {
   "cell_type": "code",
   "execution_count": 21,
   "metadata": {},
   "outputs": [
    {
     "name": "stdout",
     "output_type": "stream",
     "text": [
      "tensor([[1, 2],\n",
      "        [3, 4]])\n",
      "<class 'torch.Tensor'>\n"
     ]
    }
   ],
   "source": [
    "torch_data = torch.tensor(data)\n",
    "print(torch_data)\n",
    "print(type(torch_data))"
   ]
  },
  {
   "cell_type": "code",
   "execution_count": 22,
   "metadata": {},
   "outputs": [
    {
     "name": "stdout",
     "output_type": "stream",
     "text": [
      "[[1 2]\n",
      " [3 4]]\n",
      "<class 'numpy.ndarray'>\n",
      "tensor([[1, 2],\n",
      "        [3, 4]])\n",
      "<class 'torch.Tensor'>\n"
     ]
    }
   ],
   "source": [
    "np_data = np.array(data)\n",
    "print(np_data)\n",
    "print(type(np_data))\n",
    "torch_data = torch.from_numpy(np_data)\n",
    "print(torch_data)\n",
    "print(type(torch_data))"
   ]
  },
  {
   "cell_type": "markdown",
   "metadata": {},
   "source": [
    "By default, all of the tensor data operations are carried out on the CPU:"
   ]
  },
  {
   "cell_type": "code",
   "execution_count": 23,
   "metadata": {},
   "outputs": [
    {
     "data": {
      "text/plain": [
       "device(type='cpu')"
      ]
     },
     "execution_count": 23,
     "metadata": {},
     "output_type": "execute_result"
    }
   ],
   "source": [
    "torch_data.device"
   ]
  },
  {
   "cell_type": "markdown",
   "metadata": {},
   "source": [
    "Now let us see some basic tensor operations:"
   ]
  },
  {
   "cell_type": "code",
   "execution_count": 25,
   "metadata": {},
   "outputs": [],
   "source": [
    "tensor_1 = torch.tensor([[1,2,1],\n",
    "                        [0,1,1],\n",
    "                        [0,4,1]])\n",
    "tensor_2 = torch.tensor([[1,0,1],\n",
    "                        [0,1,1],\n",
    "                        [0,0,1]])"
   ]
  },
  {
   "cell_type": "code",
   "execution_count": 27,
   "metadata": {},
   "outputs": [
    {
     "name": "stdout",
     "output_type": "stream",
     "text": [
      "tensor([[2, 2, 2],\n",
      "        [0, 2, 2],\n",
      "        [0, 4, 2]])\n",
      "tensor([[0, 2, 0],\n",
      "        [0, 0, 0],\n",
      "        [0, 4, 0]])\n",
      "tensor([[1, 0, 1],\n",
      "        [0, 1, 1],\n",
      "        [0, 0, 1]])\n",
      "tensor([[1, 2, 4],\n",
      "        [0, 1, 2],\n",
      "        [0, 4, 5]])\n",
      "tensor(11)\n"
     ]
    }
   ],
   "source": [
    "print(tensor_1 + tensor_2)\n",
    "print(tensor_1 - tensor_2) \n",
    "print(tensor_1 * tensor_2)\n",
    "print(tensor_1 @ tensor_2) # what's the difference compared to the previous one?\n",
    "print(tensor_1.sum())"
   ]
  },
  {
   "cell_type": "markdown",
   "metadata": {},
   "source": [
    "But when are tensors useful the most? Why do we need them instead of using numpy arrays?"
   ]
  },
  {
   "cell_type": "code",
   "execution_count": 29,
   "metadata": {},
   "outputs": [],
   "source": [
    "import time"
   ]
  },
  {
   "cell_type": "code",
   "execution_count": 30,
   "metadata": {},
   "outputs": [],
   "source": [
    "tensor_1 = torch.rand((3,2048,2048,4))"
   ]
  },
  {
   "cell_type": "code",
   "execution_count": 31,
   "metadata": {},
   "outputs": [],
   "source": [
    "tensor_2 = torch.rand((4,64))"
   ]
  },
  {
   "cell_type": "code",
   "execution_count": 32,
   "metadata": {},
   "outputs": [
    {
     "name": "stdout",
     "output_type": "stream",
     "text": [
      "0.583681583404541\n"
     ]
    }
   ],
   "source": [
    "t = time.time()\n",
    "tensor_1@tensor_2\n",
    "elapsed = time.time() - t\n",
    "print(elapsed)"
   ]
  },
  {
   "cell_type": "code",
   "execution_count": 34,
   "metadata": {},
   "outputs": [
    {
     "name": "stdout",
     "output_type": "stream",
     "text": [
      "cuda:0\n"
     ]
    }
   ],
   "source": [
    "tensor_1 = tensor_1.to('cuda')\n",
    "tensor_2 = tensor_2.to('cuda')\n",
    "print(tensor_1.device)\n"
   ]
  },
  {
   "cell_type": "code",
   "execution_count": 35,
   "metadata": {},
   "outputs": [
    {
     "name": "stdout",
     "output_type": "stream",
     "text": [
      "0.010904788970947266\n"
     ]
    }
   ],
   "source": [
    "t = time.time()\n",
    "tensor_1@tensor_2\n",
    "elapsed = time.time() - t\n",
    "print(elapsed)"
   ]
  },
  {
   "cell_type": "markdown",
   "metadata": {},
   "source": [
    "### Homework\n",
    "\n",
    "1. Try to visualize the difference between using a GPU or a CPU for tensor operations using matplotlib, with ever incresing tensor sizes.\n",
    "2. Write a function that takes a 2D vector as input and performs a 2D transformation (a combination of rotation, translation, scaling) on the vector using only matrix multiplication, using only pytorch datatypes and pytorch math operations. (Look for homogeneous coordinates)"
   ]
  },
  {
   "cell_type": "code",
   "execution_count": null,
   "metadata": {},
   "outputs": [],
   "source": []
  }
 ],
 "metadata": {
  "kernelspec": {
   "display_name": "detectron",
   "language": "python",
   "name": "python3"
  },
  "language_info": {
   "codemirror_mode": {
    "name": "ipython",
    "version": 3
   },
   "file_extension": ".py",
   "mimetype": "text/x-python",
   "name": "python",
   "nbconvert_exporter": "python",
   "pygments_lexer": "ipython3",
   "version": "3.10.12"
  }
 },
 "nbformat": 4,
 "nbformat_minor": 2
}
