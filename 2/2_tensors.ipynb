{
 "cells": [
  {
   "cell_type": "markdown",
   "metadata": {},
   "source": [
    "# BIOMAG introduction material 2. - Pytorch basics - Tensors"
   ]
  },
  {
   "cell_type": "markdown",
   "metadata": {},
   "source": [
    "A tensor is a basic datatype in pytorch (and all other deep learning frameworks as well). They are basically n-dimensional matrices which can be really beneficial when using them on the GPU. In this lesson, you will see how you can convert between tensors and numpy arrays, how you can manipulate tensors and why using the GPU for tensors is highly important."
   ]
  },
  {
   "cell_type": "code",
   "execution_count": 26,
   "metadata": {},
   "outputs": [],
   "source": [
    "# torch - an open source machine learning library (primarily used for deep learning)\n",
    "import torch\n",
    "# numpy - for numerical computing and array manipulation\n",
    "import numpy as np\n",
    "# time - for time measurement\n",
    "import time\n",
    "# matplotlib - for plotting\n",
    "import matplotlib.pyplot as plt"
   ]
  },
  {
   "cell_type": "markdown",
   "metadata": {},
   "source": [
    "The first thing you should check when using the torch library is whether you have access to the GPU or not."
   ]
  },
  {
   "cell_type": "code",
   "execution_count": 3,
   "metadata": {},
   "outputs": [
    {
     "data": {
      "text/plain": [
       "True"
      ]
     },
     "execution_count": 3,
     "metadata": {},
     "output_type": "execute_result"
    }
   ],
   "source": [
    "torch.cuda.is_available()"
   ]
  },
  {
   "cell_type": "markdown",
   "metadata": {},
   "source": [
    "If this function returns `False`, try to install torch from [here](https://pytorch.org/get-started/previous-versions/). You can select the preferred pytorch and the corresponding cuda version."
   ]
  },
  {
   "cell_type": "markdown",
   "metadata": {},
   "source": [
    "First, let us see the most well known array-like structures:"
   ]
  },
  {
   "cell_type": "code",
   "execution_count": 5,
   "metadata": {},
   "outputs": [
    {
     "name": "stdout",
     "output_type": "stream",
     "text": [
      "<class 'list'>\n",
      "[[1, 2], [3, 4]]\n",
      "<class 'numpy.ndarray'>\n",
      "[[1 2]\n",
      " [3 4]]\n",
      "<class 'torch.Tensor'>\n",
      "tensor([[1, 2],\n",
      "        [3, 4]])\n"
     ]
    }
   ],
   "source": [
    "# list\n",
    "data = [[1,2],[3,4]]\n",
    "print(type(data))\n",
    "print(data)\n",
    "\n",
    "# numpy array\n",
    "np_data = np.array(data)\n",
    "print(type(np_data))\n",
    "print(np_data)\n",
    "\n",
    "# torch tensor\n",
    "tensor_data = torch.tensor(data)\n",
    "print(type(tensor_data))\n",
    "print(tensor_data)"
   ]
  },
  {
   "cell_type": "markdown",
   "metadata": {},
   "source": [
    "By default, all of the tensor data operations are carried out on the CPU, but we can move our data to the GPU:"
   ]
  },
  {
   "cell_type": "code",
   "execution_count": 8,
   "metadata": {},
   "outputs": [
    {
     "name": "stdout",
     "output_type": "stream",
     "text": [
      "Device before moving to gpu: cpu\n",
      "Device after moving to gpu:  cuda:0\n"
     ]
    }
   ],
   "source": [
    "print('Device before moving to gpu:', tensor_data.device)\n",
    "torch_data = tensor_data.to('cuda')\n",
    "print('Device after moving to gpu: ', torch_data.device)"
   ]
  },
  {
   "cell_type": "markdown",
   "metadata": {},
   "source": [
    "Now let us see some basic tensor operations:"
   ]
  },
  {
   "cell_type": "code",
   "execution_count": 9,
   "metadata": {},
   "outputs": [],
   "source": [
    "tensor_1 = torch.tensor([[1,2,1],\n",
    "                        [0,1,1],\n",
    "                        [0,4,1]])\n",
    "tensor_2 = torch.tensor([[1,0,1],\n",
    "                        [0,1,1],\n",
    "                        [0,0,1]])"
   ]
  },
  {
   "cell_type": "code",
   "execution_count": null,
   "metadata": {},
   "outputs": [
    {
     "name": "stdout",
     "output_type": "stream",
     "text": [
      "tensor([[2, 2, 2],\n",
      "        [0, 2, 2],\n",
      "        [0, 4, 2]])\n",
      "tensor([[0, 2, 0],\n",
      "        [0, 0, 0],\n",
      "        [0, 4, 0]])\n",
      "tensor([[1, 0, 1],\n",
      "        [0, 1, 1],\n",
      "        [0, 0, 1]])\n",
      "tensor([[1, 2, 4],\n",
      "        [0, 1, 2],\n",
      "        [0, 4, 5]])\n",
      "tensor(11)\n"
     ]
    }
   ],
   "source": [
    "print(tensor_1 + tensor_2) # addition\n",
    "print(tensor_1 - tensor_2) # subtraction\n",
    "print(tensor_1 * tensor_2) # multiplication\n",
    "print(tensor_1 @ tensor_2) # what's the difference compared to the previous one?\n",
    "print(tensor_1.sum())"
   ]
  },
  {
   "cell_type": "code",
   "execution_count": 14,
   "metadata": {},
   "outputs": [
    {
     "name": "stdout",
     "output_type": "stream",
     "text": [
      "tensor([1, 2, 1, 0, 1, 1, 0, 4, 1])\n",
      "tensor([[1, 2, 1],\n",
      "        [0, 1, 1],\n",
      "        [0, 4, 1]])\n"
     ]
    }
   ],
   "source": [
    "print(tensor_1.view(9))\n",
    "print(tensor_1.view(3,3))"
   ]
  },
  {
   "cell_type": "markdown",
   "metadata": {},
   "source": [
    "But when are tensors useful the most? Why do we need them instead of using numpy arrays?"
   ]
  },
  {
   "cell_type": "code",
   "execution_count": 15,
   "metadata": {},
   "outputs": [],
   "source": [
    "tensor_1 = torch.rand((4,3,2048,2048))\n",
    "tensor_1 = tensor_1.view(4,3,2048*2048)"
   ]
  },
  {
   "cell_type": "code",
   "execution_count": 16,
   "metadata": {},
   "outputs": [],
   "source": [
    "tensor_2 = torch.rand((2048*2048,64))"
   ]
  },
  {
   "cell_type": "code",
   "execution_count": 17,
   "metadata": {},
   "outputs": [
    {
     "name": "stdout",
     "output_type": "stream",
     "text": [
      "0.11632466316223145\n"
     ]
    }
   ],
   "source": [
    "t = time.time()\n",
    "tensor_1@tensor_2\n",
    "elapsed = time.time() - t\n",
    "print(elapsed)"
   ]
  },
  {
   "cell_type": "markdown",
   "metadata": {},
   "source": [
    "Move tensors to the GPU"
   ]
  },
  {
   "cell_type": "code",
   "execution_count": 19,
   "metadata": {},
   "outputs": [],
   "source": [
    "tensor_1 = tensor_1.to('cuda')\n",
    "tensor_2 = tensor_2.to('cuda')\n"
   ]
  },
  {
   "cell_type": "code",
   "execution_count": 20,
   "metadata": {},
   "outputs": [
    {
     "name": "stdout",
     "output_type": "stream",
     "text": [
      "0.04961395263671875\n"
     ]
    }
   ],
   "source": [
    "t = time.time()\n",
    "tensor_1@tensor_2\n",
    "elapsed = time.time() - t\n",
    "print(elapsed)"
   ]
  },
  {
   "cell_type": "markdown",
   "metadata": {},
   "source": [
    "`torch` also gives us access to the `requires_grad` field for tensors. Let us see how we can use in a simple setting (in terms of a quadratic function):"
   ]
  },
  {
   "cell_type": "code",
   "execution_count": 126,
   "metadata": {},
   "outputs": [
    {
     "data": {
      "image/png": "[encoded data removed]",
      "text/plain": [
       "<Figure size 640x480 with 1 Axes>"
      ]
     },
     "metadata": {},
     "output_type": "display_data"
    }
   ],
   "source": [
    "x = torch.linspace(-50,50,1000, dtype=torch.float32, requires_grad=True) # 1000 points from -50 to 50, with gradient calculation\n",
    "m = torch.tensor([2.0], requires_grad=True) # slope\n",
    "b = torch.tensor([15.0], requires_grad=True) # intercept\n",
    "y = m * x**2 + b # y = mx^2 + b\n",
    "plt.plot(x.detach().numpy(), y.detach().numpy()) # plot the function - detach() is used to remove the object from the current graph. The result will never require gradient.\n",
    "plt.show()"
   ]
  },
  {
   "cell_type": "markdown",
   "metadata": {},
   "source": [
    "We can use the `autograd` function of `torch` to differentiate functions.\n",
    "\n",
    "- `outputs` defines the outputs of the function that you want to differentiate (basically $f(x)$ values)\n",
    "- `inputs` denotes the variable(s) which will be used as the variables for differentiation (w.r.t. what you want to differentiate)\n",
    "- `grad_outputs`: in vector calculus, calculating the gradients is done by calculating the vector-Jacobian product. Here, we specify the 'vector' part of the vector-Jacobian product.\n",
    "- `create_graph`: if you want to calculate higher-order derivatives, set this to `True` (because the computation graph of the derivatives will be constructed as well)."
   ]
  },
  {
   "cell_type": "code",
   "execution_count": null,
   "metadata": {},
   "outputs": [],
   "source": [
    "first_derivatives = torch.autograd.grad(outputs=y, inputs=x, grad_outputs=torch.ones_like(x), create_graph=True)[0]\n",
    "second_derivatives = torch.autograd.grad(outputs=first_derivatives, inputs=x, grad_outputs=torch.ones_like(x))[0]\n",
    "  \n",
    "# check if the first and second derivatives are correct\n",
    "assert all(first_derivatives == 2*m*x)\n",
    "assert all(second_derivatives == 2*m)"
   ]
  },
  {
   "cell_type": "code",
   "execution_count": 128,
   "metadata": {},
   "outputs": [
    {
     "data": {
      "image/png": "[encoded data removed]",
      "text/plain": [
       "<Figure size 640x480 with 1 Axes>"
      ]
     },
     "metadata": {},
     "output_type": "display_data"
    }
   ],
   "source": [
    "plt.plot(x.detach().numpy(), y.detach().numpy(), label=\"original function y\") # plot the function - detach() is used to remove the object from the current graph. The result will never require gradient.\n",
    "plt.plot(x.detach().numpy(), first_derivatives.detach().numpy(), label=\"y'\")\n",
    "plt.plot(x.detach().numpy(), second_derivatives.detach().numpy(), label=\"y''\")\n",
    "plt.legend()\n",
    "plt.show()"
   ]
  },
  {
   "cell_type": "markdown",
   "metadata": {},
   "source": [
    "### Homework\n",
    "\n",
    "1. Try to visualize the difference between using a GPU or a CPU for tensor operations using matplotlib, with ever incresing tensor sizes.\n",
    "2. Write a function that takes a 2D vector as input and performs a 2D transformation (a combination of rotation, translation, scaling) on the vector using only matrix multiplication, using only pytorch datatypes and pytorch math operations. (Look for homogeneous coordinates)"
   ]
  }
 ],
 "metadata": {
  "kernelspec": {
   "display_name": "detectron",
   "language": "python",
   "name": "python3"
  },
  "language_info": {
   "codemirror_mode": {
    "name": "ipython",
    "version": 3
   },
   "file_extension": ".py",
   "mimetype": "text/x-python",
   "name": "python",
   "nbconvert_exporter": "python",
   "pygments_lexer": "ipython3",
   "version": "3.10.12"
  }
 },
 "nbformat": 4,
 "nbformat_minor": 2
}
